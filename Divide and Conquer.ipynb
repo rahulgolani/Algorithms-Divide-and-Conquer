{
 "cells": [
  {
   "cell_type": "markdown",
   "metadata": {},
   "source": [
    "<h1><center>Divide and Conquer</center></h1>\n",
    "This technique can be divided into the following three parts:\n",
    "\n",
    "Divide: This involves dividing the problem into some sub problem.\n",
    "Conquer: Sub problem by calling recursively until sub problem solved.\n",
    "Combine: The Sub problem Solved so that we will get find problem solution."
   ]
  },
  {
   "cell_type": "markdown",
   "metadata": {},
   "source": [
    "# Find Max in an array"
   ]
  },
  {
   "cell_type": "code",
   "execution_count": 1,
   "metadata": {},
   "outputs": [
    {
     "name": "stdout",
     "output_type": "stream",
     "text": [
      "250\n"
     ]
    }
   ],
   "source": [
    "def findMax(arr,low,high):\n",
    "    if low==high:\n",
    "        return arr[low]\n",
    "    mid=(low+high)//2\n",
    "    result1=findMax(arr,low,mid)\n",
    "    result2=findMax(arr,mid+1,high)\n",
    "    result=max(result1,result2)\n",
    "    return result\n",
    "\n",
    "\n",
    "if __name__ == '__main__':\n",
    "    arr=[70, 250, 50, 80, 140, 12, 14]\n",
    "    result=findMax(arr,0,len(arr)-1)\n",
    "    print(result)\n"
   ]
  },
  {
   "cell_type": "markdown",
   "metadata": {},
   "source": [
    "# Find Min in an array"
   ]
  },
  {
   "cell_type": "code",
   "execution_count": 2,
   "metadata": {},
   "outputs": [
    {
     "name": "stdout",
     "output_type": "stream",
     "text": [
      "12\n"
     ]
    }
   ],
   "source": [
    "def findMin(arr,low,high):\n",
    "    if low==high:\n",
    "        return arr[low]\n",
    "    mid=(low+high)//2\n",
    "    result1=findMin(arr,low,mid)\n",
    "    result2=findMin(arr,mid+1,high)\n",
    "    result=min(result1,result2)\n",
    "    return result\n",
    "\n",
    "\n",
    "if __name__ == '__main__':\n",
    "    arr=[70, 250, 50, 80, 140, 12, 14]\n",
    "    result=findMin(arr,0,len(arr)-1)\n",
    "    print(result)\n"
   ]
  },
  {
   "cell_type": "markdown",
   "metadata": {},
   "source": [
    "# Divide and Conquer (D & C) vs Dynamic Programming (DP)\n",
    "Both paradigms (D & C and DP) divide the given problem into subproblems and solve subproblems. How to choose one of them for a given problem? Divide and Conquer should be used when same subproblems are not evaluated many times. Otherwise Dynamic Programming or Memoization should be used. For example, Binary Search is a Divide and Conquer algorithm, we never evaluate the same subproblems again"
   ]
  },
  {
   "cell_type": "markdown",
   "metadata": {},
   "source": [
    "# Binary Search"
   ]
  },
  {
   "cell_type": "code",
   "execution_count": 9,
   "metadata": {},
   "outputs": [
    {
     "name": "stdout",
     "output_type": "stream",
     "text": [
      "True\n"
     ]
    }
   ],
   "source": [
    "def BinarySearch(arr,low,high,key):\n",
    "    if low>high:\n",
    "        #print('Element not found')\n",
    "        return False\n",
    "    mid=(low+high)//2\n",
    "    if arr[mid]==key:\n",
    "        return True\n",
    "    elif key<arr[mid]:\n",
    "        return BinarySearch(arr,low,mid-1,key)\n",
    "    else:\n",
    "        return BinarySearch(arr,mid+1,high,key)\n",
    "\n",
    "if __name__ == '__main__':\n",
    "    arr=[2, 3, 4, 10, 40]\n",
    "    print(BinarySearch(arr,0,len(arr)-1,40))\n",
    "\n",
    "#O(logn) time and O(logn) space[function call stack]"
   ]
  },
  {
   "cell_type": "markdown",
   "metadata": {},
   "source": [
    "Recurrence Relation - T(n) = T(n/2) + c "
   ]
  },
  {
   "cell_type": "code",
   "execution_count": 10,
   "metadata": {},
   "outputs": [
    {
     "name": "stdout",
     "output_type": "stream",
     "text": [
      "False\n"
     ]
    }
   ],
   "source": [
    "def BinarySearch(arr,low,high,key):\n",
    "    if low>high:\n",
    "        #print('Element not found')\n",
    "        return False\n",
    "    while low<=high:\n",
    "        \n",
    "        mid=(low+high)//2\n",
    "        if arr[mid]==key:\n",
    "            return True\n",
    "        elif key<arr[mid]:\n",
    "            high=mid-1\n",
    "        else:\n",
    "            low=mid+1\n",
    "    return False\n",
    "\n",
    "if __name__ == '__main__':\n",
    "    arr=[2, 3, 4, 10, 40]\n",
    "    print(BinarySearch(arr,0,len(arr)-1,13))\n",
    "#O(logn) time and O(1) space"
   ]
  },
  {
   "cell_type": "markdown",
   "metadata": {},
   "source": [
    "# Randomized Binary Search Algorithm\n"
   ]
  },
  {
   "cell_type": "code",
   "execution_count": 12,
   "metadata": {},
   "outputs": [
    {
     "name": "stdout",
     "output_type": "stream",
     "text": [
      "True\n"
     ]
    }
   ],
   "source": [
    "from random import randint\n",
    "\n",
    "def getRandom(l,h):\n",
    "    r=randint(l,h)\n",
    "    return r\n",
    "\n",
    "def BinarySearch(arr,low,high,key):\n",
    "    if low>high:\n",
    "        return False\n",
    "    mid=getRandom(low,high)\n",
    "    if arr[mid]==key:\n",
    "        return True\n",
    "    elif key<arr[mid]:\n",
    "        return BinarySearch(arr,low,mid-1,key)\n",
    "    else:\n",
    "        return BinarySearch(arr,mid+1,high,key)\n",
    "\n",
    "if __name__ == '__main__':\n",
    "    arr=[2, 3, 4, 10, 40]\n",
    "    print(BinarySearch(arr,0,len(arr)-1,3))\n"
   ]
  },
  {
   "cell_type": "markdown",
   "metadata": {},
   "source": [
    "Time Complexity  O(logn)"
   ]
  },
  {
   "cell_type": "markdown",
   "metadata": {},
   "source": [
    "# Merge Sort"
   ]
  },
  {
   "cell_type": "code",
   "execution_count": 24,
   "metadata": {},
   "outputs": [
    {
     "name": "stdout",
     "output_type": "stream",
     "text": [
      "[2, 3, 4, 10, 40]\n"
     ]
    }
   ],
   "source": [
    "def mergeSort(arr):\n",
    "    if len(arr)>1:\n",
    "        mid=len(arr)//2\n",
    "        l=arr[:mid]\n",
    "        r=arr[mid:]\n",
    "        mergeSort(l)\n",
    "        mergeSort(r)\n",
    "    \n",
    "        i,j,k=0,0,0\n",
    "        n1=len(l)\n",
    "        n2=len(r)\n",
    "        while i<n1 and j<n2:\n",
    "            if l[i]<r[j]:\n",
    "                arr[k]=l[i]\n",
    "                i+=1\n",
    "                k+=1\n",
    "            else:\n",
    "                arr[k]=r[j]\n",
    "                j+=1\n",
    "                k+=1\n",
    "        while i<n1:\n",
    "            arr[k]=l[i]\n",
    "            i+=1\n",
    "            k+=1\n",
    "        while j<n2:\n",
    "            arr[k]=r[j]\n",
    "            j+=1\n",
    "            k+=1\n",
    "\n",
    "    \n",
    "if __name__ == '__main__':\n",
    "    arr=[2, 3, 4, 10, 40]\n",
    "    mergeSort(arr)\n",
    "    print(arr)\n",
    "\n",
    "#O(nlogn) time complexity and O(n) space complexity"
   ]
  },
  {
   "cell_type": "markdown",
   "metadata": {},
   "source": [
    "Recurrence Relation T(n) = 2T(n/2) + θ(n)"
   ]
  },
  {
   "cell_type": "markdown",
   "metadata": {},
   "source": [
    "# Applications of Merge Sort"
   ]
  },
  {
   "cell_type": "markdown",
   "metadata": {},
   "source": [
    "<strong>Merge Sort is useful for sorting linked lists in O(nLogn) time.</strong>\n",
    "\n",
    "In the case of linked lists, the case is different mainly due to the difference in memory allocation of arrays and linked lists. Unlike arrays, linked list nodes may not be adjacent in memory. Unlike an array, in the linked list, we can insert items in the middle in O(1) extra space and O(1) time. Therefore, the merge operation of merge sort can be implemented without extra space for linked lists.\n",
    "\n",
    "In arrays, we can do random access as elements are contiguous in memory. Let us say we have an integer (4-byte) array A and let the address of A[0] be x then to access A[i], we can directly access the memory at (x + i*4). Unlike arrays, we can not do random access in the linked list. Quick Sort requires a lot of this kind of access. In a linked list to access i’th index, we have to travel each and every node from the head to i’th node as we don’t have a continuous block of memory. Therefore, the overhead increases for quicksort. Merge sort accesses data sequentially and the need of random access is low.\n",
    "\n",
    "<strong>Inversion Count Problem</strong>\n",
    "\n",
    "<strong>External Sorting</strong>\n",
    "\n",
    "External sorting is a class of sorting algorithms that can handle massive amounts of data. External sorting is required when the data being sorted do not fit into the main memory of a computing device (usually RAM) and instead they must reside in the slower external memory, usually a hard disk drive. Thus, external sorting algorithms are external memory algorithms and thus applicable in the external memory model of computation."
   ]
  },
  {
   "cell_type": "markdown",
   "metadata": {},
   "source": [
    "# Quick Sort"
   ]
  },
  {
   "cell_type": "markdown",
   "metadata": {},
   "source": [
    "It picks an element as pivot and partitions the given array around the picked pivot"
   ]
  },
  {
   "cell_type": "markdown",
   "metadata": {},
   "source": [
    "The key process in quickSort is partition(). Target of partitions is, given an array and an element x of array as pivot, put x at its correct position in sorted array and put all smaller elements (smaller than x) before x, and put all greater elements (greater than x) after x. All this should be done in linear time."
   ]
  },
  {
   "cell_type": "code",
   "execution_count": 26,
   "metadata": {},
   "outputs": [
    {
     "name": "stdout",
     "output_type": "stream",
     "text": [
      "[12, 14, 50, 70, 80, 140, 250]\n"
     ]
    }
   ],
   "source": [
    "def partition(arr,low,high):\n",
    "    i=low-1\n",
    "    pivot=arr[high]\n",
    "    for j in range(low,high):\n",
    "        if arr[j]<pivot:\n",
    "            i+=1\n",
    "            arr[i],arr[j]=arr[j],arr[i]\n",
    "    arr[i+1],arr[high]=arr[high],arr[i+1]\n",
    "    return (i+1)\n",
    "    \n",
    "def quickSort(arr,low,high):\n",
    "    if low<high:\n",
    "        p=partition(arr,low,high)\n",
    "        \n",
    "        quickSort(arr,low,p-1)\n",
    "        quickSort(arr,p+1,high)\n",
    "    \n",
    "if __name__ == '__main__':\n",
    "    arr=[70,250,50,80,140,12,14]\n",
    "    quickSort(arr,0,len(arr)-1)\n",
    "    print(arr)\n",
    "\n",
    "#O(nlogn) time complexity and O(n) space complexity"
   ]
  },
  {
   "cell_type": "markdown",
   "metadata": {},
   "source": [
    "<strong>Time taken by QuickSort </strong> in general can be written as following.\n",
    "\n",
    "T(n) = T(k) + T(n-k-1) + \\theta(n)\n",
    " \n",
    "The first two terms are for two recursive calls, the last term is for the partition process. k is the number of elements which are smaller than pivot.\n",
    "The time taken by QuickSort depends upon the input array and partition strategy. Following are three cases.\n",
    "\n",
    "Worst Case: The worst case occurs when the partition process always picks greatest or smallest element as pivot. If we consider above partition strategy where last element is always picked as pivot, the worst case would occur when the array is already sorted in increasing or decreasing order. Following is recurrence for worst case.\n",
    "\n",
    "T(n) = T(0) + T(n-1) + \\theta(n)\n",
    "\n",
    "which is equivalent to  \n",
    "\n",
    "T(n) = T(n-1) + \\theta(n)\n",
    "\n",
    "The solution of above recurrence is \\theta(n2).\n",
    "\n",
    "Best Case: The best case occurs when the partition process always picks the middle element as pivot. Following is recurrence for best case.\n",
    "\n",
    "T(n) = 2T(n/2) + \\theta(n)\n",
    "\n",
    "The solution of above recurrence is \\theta(nLogn). It can be solved using case 2 of Master Theorem.\n",
    "\n",
    "Average Case:\n",
    "\n",
    "To do average case analysis, we need to consider all possible permutation of array and calculate time taken by every permutation which doesn’t look easy.\n",
    "\n",
    "We can get an idea of average case by considering the case when partition puts O(n/9) elements in one set and O(9n/10) elements in other set. Following is recurrence for this case.\n",
    "\n",
    " T(n) = T(n/9) + T(9n/10) + \\theta(n)\n",
    "\n",
    "Solution of above recurrence is also O(nLogn)"
   ]
  },
  {
   "cell_type": "markdown",
   "metadata": {},
   "source": [
    "# Count Inversions in an array"
   ]
  },
  {
   "cell_type": "markdown",
   "metadata": {},
   "source": [
    "Inversion Count for an array indicates – how far (or close) the array is from being sorted. If array is already sorted then inversion count is 0. If array is sorted in reverse order that inversion count is the maximum. \n",
    "Formally speaking, two elements a[i] and a[j] form an inversion if a[i] > a[j] and i < j "
   ]
  },
  {
   "cell_type": "code",
   "execution_count": 29,
   "metadata": {},
   "outputs": [
    {
     "name": "stdout",
     "output_type": "stream",
     "text": [
      "5\n"
     ]
    }
   ],
   "source": [
    "def countInversion(arr):\n",
    "    result=0\n",
    "    for i in range(len(arr)):\n",
    "        for j in range(i+1,len(arr)):\n",
    "            if arr[i]>arr[j]:\n",
    "                result+=1\n",
    "    return result\n",
    "            \n",
    "    \n",
    "if __name__ == '__main__':\n",
    "    arr=[1, 20, 6, 4, 5]\n",
    "    result=countInversion(arr)\n",
    "    print(result)\n",
    "\n",
    "#O(n^2) time complexity and O(1) space complexity"
   ]
  },
  {
   "cell_type": "code",
   "execution_count": 32,
   "metadata": {},
   "outputs": [
    {
     "name": "stdout",
     "output_type": "stream",
     "text": [
      "5\n"
     ]
    }
   ],
   "source": [
    "def countInversion(arr):\n",
    "    icount=0\n",
    "    if len(arr)<=1:\n",
    "        return icount\n",
    "\n",
    "    mid=len(arr)//2\n",
    "    left=arr[:mid]\n",
    "    right=arr[mid:]\n",
    "    icount+=countInversion(left)\n",
    "    icount+=countInversion(right)\n",
    "    i=j=k=0\n",
    "\n",
    "    #print(left)\n",
    "    #print(right)\n",
    "    while i<len(left) and j<len(right):\n",
    "        if left[i]<right[j]:\n",
    "            arr[k]=left[i]\n",
    "            i+=1\n",
    "        else:\n",
    "            #print(left[i],right[j])\n",
    "            arr[k]=right[j]\n",
    "            j+=1\n",
    "            icount+=(mid-i)\n",
    "        k+=1\n",
    "\n",
    "    while i<len(left):\n",
    "        arr[k]=left[i]\n",
    "        i+=1\n",
    "        k+=1\n",
    "    while j<len(right):\n",
    "        arr[k]=right[j]\n",
    "        j+=1\n",
    "        k+=1\n",
    "\n",
    "    return icount\n",
    "\n",
    "if __name__ == '__main__':\n",
    "    #arr=[9,8,10,5,6,7]\n",
    "    arr=[1, 20, 6, 4, 5]\n",
    "    print(countInversion(arr))\n",
    "    #print(arr)\n",
    "#O(nlogn) time complexity and O(1) space complexity"
   ]
  },
  {
   "cell_type": "markdown",
   "metadata": {},
   "source": [
    "# Power function using D&C"
   ]
  },
  {
   "cell_type": "markdown",
   "metadata": {},
   "source": [
    "Recursive Solution"
   ]
  },
  {
   "cell_type": "code",
   "execution_count": 1,
   "metadata": {},
   "outputs": [
    {
     "name": "stdout",
     "output_type": "stream",
     "text": [
      "8\n"
     ]
    }
   ],
   "source": [
    "def power(x,y):\n",
    "    if y==0:\n",
    "        return 1\n",
    "    return x*power(x,y-1)\n",
    "\n",
    "if __name__ == '__main__':\n",
    "    print(power(2,3))"
   ]
  },
  {
   "cell_type": "markdown",
   "metadata": {},
   "source": [
    "Using Divide and conquer"
   ]
  },
  {
   "cell_type": "code",
   "execution_count": 2,
   "metadata": {},
   "outputs": [
    {
     "name": "stdout",
     "output_type": "stream",
     "text": [
      "64\n"
     ]
    }
   ],
   "source": [
    "def power(x,y):\n",
    "    if y==0:\n",
    "        return 1\n",
    "    temp=power(x,y//2)\n",
    "    if y%2==0:\n",
    "        return temp*temp\n",
    "    else:\n",
    "        return x*temp*temp\n",
    "    \n",
    "    \n",
    "if __name__ == '__main__':\n",
    "    x=2;y=6\n",
    "    print(power(x,y))\n",
    "    #print(arr)\n",
    "#O(logn) time complexity and O(logn) space complexity [Function Call Stack]"
   ]
  },
  {
   "cell_type": "markdown",
   "metadata": {},
   "source": [
    "Negative number as a exponent"
   ]
  },
  {
   "cell_type": "code",
   "execution_count": 9,
   "metadata": {},
   "outputs": [
    {
     "name": "stdout",
     "output_type": "stream",
     "text": [
      "0.125\n"
     ]
    }
   ],
   "source": [
    "def calculatePower(x,y):\n",
    "    if y==0:\n",
    "        return 1\n",
    "    temp=calculatePower(x,int(y/2))\n",
    "    if y%2==0:\n",
    "        return temp*temp\n",
    "    else:\n",
    "        if y>0:\n",
    "            return x*temp*temp\n",
    "        else:\n",
    "            return (temp*temp)/x\n",
    "\n",
    "if __name__ == '__main__':\n",
    "    x=2\n",
    "    y=-3\n",
    "    print(calculatePower(x,y))\n"
   ]
  },
  {
   "cell_type": "markdown",
   "metadata": {},
   "source": [
    "# Multiply two Polynomials"
   ]
  },
  {
   "cell_type": "code",
   "execution_count": 6,
   "metadata": {},
   "outputs": [
    {
     "name": "stdout",
     "output_type": "stream",
     "text": [
      "5x^0 + 10x^1 + 30x^2 + 26x^3 + 52x^4 + 24x^5\n"
     ]
    }
   ],
   "source": [
    "def multiplyPolynomial(a,b):\n",
    "    c=[0]*(len(a)+len(b)-1)\n",
    "    for i in range(len(a)):\n",
    "        for j in range(len(b)):\n",
    "            c[i+j]+=a[i]*b[j]\n",
    "    for i in range(len(c)-1):\n",
    "        print(c[i],'x^',i,end=\" + \",sep='')\n",
    "    i+=1\n",
    "    print(c[i],'x^',i,sep='')\n",
    "\n",
    "if __name__ == '__main__':\n",
    "    a=[5,0,10,6]\n",
    "    b=[1,2,4]\n",
    "    multiplyPolynomial(a,b)\n",
    "#Time Complexity-O(mn)\n"
   ]
  },
  {
   "cell_type": "markdown",
   "metadata": {},
   "source": [
    "# The Skyline Problem"
   ]
  },
  {
   "cell_type": "markdown",
   "metadata": {},
   "source": [
    "Given n rectangular buildings in a 2-dimensional city, computes the skyline of these buildings, eliminating hidden lines. The main task is to view buildings from aside and remove all sections that are not visible.\n",
    "All buildings share common bottom and every building is represented by a triplet (left, ht, right)\n",
    "\n",
    "left: is x coordinated on the left side (or wall).\n",
    "right: is x coordinate of the right side.\n",
    "ht: is the height of the building.\n",
    "A skyline is a collection of rectangular strips. A rectangular strip is represented as a pair (left, ht) where left is x coordinate of the left side of strip and ht is the height of strip"
   ]
  },
  {
   "cell_type": "code",
   "execution_count": 10,
   "metadata": {},
   "outputs": [
    {
     "name": "stdout",
     "output_type": "stream",
     "text": [
      "[[0, 3], [5, 0]]\n"
     ]
    }
   ],
   "source": [
    "from functools import cmp_to_key\n",
    "from heapq import _heapify_max,_heappop_max\n",
    "\n",
    "def compare(a,b):\n",
    "    if a[0]!=b[0]:\n",
    "        if a[0]<b[0]:\n",
    "            return -1\n",
    "        else:\n",
    "            return 1\n",
    "    else:\n",
    "        if a[2]=='s' and b[2]=='s':\n",
    "            if a[1]>b[1]:\n",
    "                return -1\n",
    "            else:\n",
    "                return 1\n",
    "        elif a[2]=='e' and b[2]=='e':\n",
    "            if a[1]<b[1]:\n",
    "                return -1\n",
    "            else:\n",
    "                return 1\n",
    "        else:\n",
    "            if a[2]=='s':\n",
    "                return -1\n",
    "            else:\n",
    "                return 1\n",
    "\n",
    "def getSkyline(arr):\n",
    "    arrNew=[]\n",
    "    for i in range(len(arr)):\n",
    "        arrNew.append([arr[i][0],arr[i][2],'s'])\n",
    "        arrNew.append([arr[i][1],arr[i][2],'e'])\n",
    "    arrNew.sort(key=cmp_to_key(compare))\n",
    "    # for i in arrNew:\n",
    "    #     print(i)\n",
    "\n",
    "    result=[]\n",
    "    heap=[0]\n",
    "    _heapify_max(heap)\n",
    "    maxVal=0\n",
    "    for i in arrNew:\n",
    "        if i[2]=='s':\n",
    "            heap.append(i[1])\n",
    "            _heapify_max(heap)\n",
    "            if heap[0]!=maxVal:\n",
    "                maxVal=heap[0]\n",
    "                result.append([i[0],maxVal])\n",
    "        else:\n",
    "            heap.remove(i[1])\n",
    "            _heapify_max(heap)\n",
    "            if heap[0]!=maxVal:\n",
    "                maxVal=heap[0]\n",
    "                result.append([i[0],maxVal])\n",
    "\n",
    "    print(result)\n",
    "\n",
    "if __name__ == '__main__':\n",
    "    # arr=[[1,5,11], [2, 7, 6], [3, 9, 13], [12,16,7], [14, 25, 3], [19, 22, 18], [23, 29, 13], [24, 28, 4]]\n",
    "    # arr=[[1,3, 3], [2, 4, 4], [5, 8, 2], [6, 7, 4], [8, 9, 4]]\n",
    "    # arr=[[2,9,10],[3,7,15],[5,12,12],[15,20,10],[19,24,8]]\n",
    "    arr=[[0,2,3],[2,5,3]]\n",
    "    getSkyline(arr)\n",
    "# https://leetcode.com/problems/the-skyline-problem/discuss/1044480/Python-PQ\n"
   ]
  },
  {
   "cell_type": "markdown",
   "metadata": {},
   "source": [
    "# Maximum Subarray Sum"
   ]
  },
  {
   "cell_type": "markdown",
   "metadata": {},
   "source": [
    "Naive approach is to run 2 loops, time complexity o(n^2)"
   ]
  },
  {
   "cell_type": "markdown",
   "metadata": {},
   "source": [
    "Another Approach Use Kadane's Algorithm, Time complexity O(n)"
   ]
  },
  {
   "cell_type": "code",
   "execution_count": 7,
   "metadata": {},
   "outputs": [
    {
     "name": "stdout",
     "output_type": "stream",
     "text": [
      "7\n"
     ]
    }
   ],
   "source": [
    "def maxSubSum(arr):\n",
    "    max_so_far=0\n",
    "    max_ending_here=0\n",
    "    for i in range(len(arr)):\n",
    "        max_ending_here+=arr[i]\n",
    "        if max_ending_here>max_so_far:\n",
    "            max_so_far=max_ending_here\n",
    "        if max_ending_here<0:\n",
    "            max_ending_here=0\n",
    "    return max_so_far        \n",
    "    \n",
    "\n",
    "if __name__ == '__main__':\n",
    "    arr=[-2, -5, 6, -2, -3, 1, 5, -6]\n",
    "    result=maxSubSum(arr)\n",
    "    print(result)\n"
   ]
  },
  {
   "cell_type": "markdown",
   "metadata": {},
   "source": [
    "Using Divide and Conquer approach, we can find the maximum subarray sum in O(nLogn) time. Following is the Divide and Conquer algorithm. \n",
    "\n",
    "Divide the given array in two halves , Return the maximum of following three \n",
    "\n",
    "Maximum subarray sum in left half (Make a recursive call) \n",
    "\n",
    "Maximum subarray sum in right half (Make a recursive call) \n",
    "\n",
    "Maximum subarray sum such that the subarray crosses the midpoint\n",
    "\n",
    "The lines 2.a and 2.b are simple recursive calls. How to find maximum subarray sum such that the subarray crosses the midpoint? We can easily find the crossing sum in linear time. The idea is simple, find the maximum sum starting from mid point and ending at some point on left of mid, then find the maximum sum starting from mid + 1 and ending with sum point on right of mid + 1. Finally, combine the two and return. "
   ]
  },
  {
   "cell_type": "code",
   "execution_count": 13,
   "metadata": {},
   "outputs": [
    {
     "name": "stdout",
     "output_type": "stream",
     "text": [
      "7\n"
     ]
    }
   ],
   "source": [
    "#Using Divide and Conquer Strategy\n",
    "\n",
    "def maxCrossingSum(arr,low,mid,high):\n",
    "    result=0; leftSum=float('-infinity')\n",
    "    for i in range(mid,low-1,-1):\n",
    "        result+=arr[i]\n",
    "        if result>leftSum:\n",
    "            leftSum=result\n",
    "    result=0; rightSum=float('-infinity')\n",
    "    for i in range(mid+1,high+1):\n",
    "        result+=arr[i]\n",
    "        if result>rightSum:\n",
    "            rightSum=result\n",
    "    return leftSum+rightSum\n",
    "    \n",
    "\n",
    "def maxSum(arr,low,high):\n",
    "    if low==high:\n",
    "        return arr[low]\n",
    "    mid=(low+high)//2\n",
    "    return max(maxSum(arr,low,mid),maxSum(arr,mid+1,high),maxCrossingSum(arr,low,mid,high))\n",
    "\n",
    "if __name__=='__main__':\n",
    "    arr=[-2, -5, 6, -2, -3, 1, 5, -6]\n",
    "    result=maxSum(arr,0,len(arr)-1)\n",
    "    print(result)\n",
    "#2T(N/2)+O(N)---> O(nlogn)"
   ]
  },
  {
   "cell_type": "markdown",
   "metadata": {},
   "source": [
    "Time Complexity: maxSubArraySum() is a recursive method and time complexity can be expressed as following recurrence relation. \n",
    "T(n) = 2T(n/2) + Θ(n) "
   ]
  },
  {
   "cell_type": "markdown",
   "metadata": {},
   "source": [
    "# Longest Common Prefix using Divide and Conquer Algorithm"
   ]
  },
  {
   "cell_type": "code",
   "execution_count": 15,
   "metadata": {},
   "outputs": [
    {
     "name": "stdout",
     "output_type": "stream",
     "text": [
      "ap\n"
     ]
    }
   ],
   "source": [
    "#Using Divide and Conquer Strategy\n",
    "\n",
    "def commonPrefix(str1,str2):\n",
    "    n1=len(str1);n2=len(str2)\n",
    "    i,j=0,0\n",
    "    s=\"\"\n",
    "    while i<n1 and j<n2:\n",
    "        if str1[i]==str2[j]:\n",
    "            s+=str1[i]\n",
    "            i+=1\n",
    "            j+=1\n",
    "        else:\n",
    "            break\n",
    "    return s\n",
    "\n",
    "def longestCommonPrefix(arr,low,high):\n",
    "    if low==high:\n",
    "        return arr[low]\n",
    "    mid=(low+high)//2\n",
    "    result1=longestCommonPrefix(arr,low,mid)\n",
    "    result2=longestCommonPrefix(arr,mid+1,high)\n",
    "    result=commonPrefix(result1,result2)\n",
    "    return result\n",
    "\n",
    "if __name__=='__main__':\n",
    "    arr=['geeksforgeeks', 'geeks', 'geek', 'geezer']\n",
    "    arr=[\"apple\", \"ape\", \"april\"]\n",
    "    result=longestCommonPrefix(arr,0,len(arr)-1)\n",
    "    print(result)\n",
    "#2T(N/2)+O(N)---> O(nlogn)"
   ]
  },
  {
   "cell_type": "markdown",
   "metadata": {},
   "source": [
    "# Search in a Row-wise and Column-wise Sorted 2D Array using Divide and Conquer algorithm"
   ]
  },
  {
   "cell_type": "markdown",
   "metadata": {},
   "source": [
    "<pre>\n",
    "1) Find the middle element.\n",
    "2) If middle element is same as key return.\n",
    "3) If middle element is lesser than key then\n",
    "….3a) search submatrix on lower side of middle element\n",
    "….3b) Search submatrix on right hand side.of middle element\n",
    "4) If middle element is greater than key then\n",
    "….4a) search vertical submatrix on left side of middle element\n",
    "….4b) search submatrix on right hand side.\n",
    "</pre>"
   ]
  },
  {
   "cell_type": "code",
   "execution_count": 1,
   "metadata": {},
   "outputs": [
    {
     "name": "stdout",
     "output_type": "stream",
     "text": [
      "Element found at 1,0\n"
     ]
    }
   ],
   "source": [
    "def search(arr,fr,tr,fc,tc,key):\n",
    "    i=(fr+tr)//2\n",
    "    j=(fc+tc)//2\n",
    "    if key==arr[i][j]:\n",
    "        print(f\"Element found at {i},{j}\")\n",
    "    else:\n",
    "        # right up quarter\n",
    "        if i!=tr or j!=fc:\n",
    "            search(arr,fr,i,j,tc,key)\n",
    "\n",
    "        if arr[i][j]<key:\n",
    "            if i+1<=tr:\n",
    "                search(arr,i+1,tr,fc,tc,key)\n",
    "        else:\n",
    "            if j-1>=fc:\n",
    "                search(arr,fr,tr,fc,j-1,key)\n",
    "\n",
    "\n",
    "if __name__ == '__main__':\n",
    "    arr=[[ 10, 20, 30, 40], [15, 25, 35, 45], [27, 29, 37, 48], [32, 33, 39, 50]]\n",
    "    key=15\n",
    "    row=len(arr)\n",
    "    col=len(arr[0])\n",
    "    search(arr,0,row-1,0,col-1,key)\n"
   ]
  },
  {
   "cell_type": "markdown",
   "metadata": {},
   "source": [
    "# Distinct elements in subarray using Mo’s Algorithm"
   ]
  },
  {
   "cell_type": "markdown",
   "metadata": {},
   "source": [
    "TO DO after range queries"
   ]
  },
  {
   "cell_type": "markdown",
   "metadata": {},
   "source": [
    "<h2><u><center>Binary Search Based</center></u></h2>"
   ]
  },
  {
   "cell_type": "markdown",
   "metadata": {},
   "source": [
    "# Median of two sorted arrays of same size"
   ]
  },
  {
   "cell_type": "markdown",
   "metadata": {},
   "source": [
    "While merging track the 2 middle numbers while reading till n "
   ]
  },
  {
   "cell_type": "code",
   "execution_count": 16,
   "metadata": {},
   "outputs": [
    {
     "name": "stdout",
     "output_type": "stream",
     "text": [
      "16\n"
     ]
    }
   ],
   "source": [
    "def medianOfArray(arr1,arr2,n):\n",
    "    m1=-1 #first number\n",
    "    m2=-1 #second Number\n",
    "    count=0\n",
    "    i=j=0\n",
    "    while count<n+1:\n",
    "        count+=1\n",
    "        if i==n: # i==5 index error if arr1[i]<arr2[j] is checked\n",
    "            m1=m2\n",
    "            m2=arr2[0]\n",
    "            break\n",
    "        if j==n:\n",
    "            m1=m2\n",
    "            m2=arr1[0]\n",
    "            break\n",
    "        if arr1[i]<arr2[j]:\n",
    "            m1=m2\n",
    "            m2=arr1[i]\n",
    "            i+=1\n",
    "        else:\n",
    "            m1=m2\n",
    "            m2=arr2[j]\n",
    "            j+=1\n",
    "    return (m1+m2)//2\n",
    "\n",
    "if __name__ == '__main__':\n",
    "    arr1=[1, 12, 15, 26, 38]\n",
    "    arr2=[2, 13, 17, 30, 45]\n",
    "    print(medianOfArray(arr1,arr2,len(arr1)))"
   ]
  },
  {
   "cell_type": "markdown",
   "metadata": {},
   "source": [
    "<strong>DNC approach</strong>"
   ]
  },
  {
   "cell_type": "markdown",
   "metadata": {},
   "source": [
    "1) Calculate the medians m1 and m2 of the input arrays ar1[] \n",
    "   and ar2[] respectively.\n",
    "\n",
    "2) If m1 and m2 both are equal then we are done.\n",
    "     return m1 (or m2)\n",
    "\n",
    "3) If m1 is greater than m2, then median is present in one \n",
    "   of the below two subarrays.\n",
    "    a)  From first element of ar1 to m1 (ar1[0...|_n/2_|])\n",
    "    b)  From m2 to last element of ar2  (ar2[|_n/2_|...n-1])\n",
    "\n",
    "4) If m2 is greater than m1, then median is present in one    \n",
    "   of the below two subarrays.\n",
    "   a)  From m1 to last element of ar1  (ar1[|_n/2_|...n-1])\n",
    "   b)  From first element of ar2 to m2 (ar2[0...|_n/2_|])\n",
    "\n",
    "5) Repeat the above process until size of both the subarrays \n",
    "   becomes 2.\n",
    "\n",
    "6) If size of the two arrays is 2 then use below formula to get \n",
    "  the median.\n",
    "    Median = (max(ar1[0], ar2[0]) + min(ar1[1], ar2[1]))/2"
   ]
  },
  {
   "cell_type": "code",
   "execution_count": 2,
   "metadata": {},
   "outputs": [
    {
     "name": "stdout",
     "output_type": "stream",
     "text": [
      "4\n"
     ]
    }
   ],
   "source": [
    "#O(logn) approach using the binary search method\n",
    "\n",
    "def medianOfArray(arr1,arr2,n):\n",
    "    if n==0:\n",
    "        return 0\n",
    "    if n==1:\n",
    "        return (arr1[0]+arr2[0])//2\n",
    "    if n==2:\n",
    "        return (max(arr1[0],arr2[0])+min(arr1[1],arr2[1]))//2\n",
    "    m1=median(arr1,n)\n",
    "    m2=median(arr2,n)\n",
    "    if m1>m2:\n",
    "        if n%2==0:\n",
    "            return medianOfArray(arr1[:(n//2)+1],arr2[(n//2)-1:],(n//2)+1)\n",
    "        else:\n",
    "            return medianOfArray(arr1[:(n//2)+1],arr2[(n//2):],(n//2)+1)\n",
    "    else:\n",
    "        if n%2==0:\n",
    "            return medianOfArray(arr1[(n//2)-1:],arr2[:(n//2)+1],(n//2)+1)\n",
    "        else:\n",
    "            return medianOfArray(arr1[n//2:],arr2[:(n//2)+1],(n//2)+1)\n",
    "\n",
    "def median(arr,n):\n",
    "    if n%2==0:\n",
    "        return (arr[n//2]+arr[(n//2)-1])//2\n",
    "    else:\n",
    "        return arr[n//2]\n",
    "\n",
    "if __name__ == '__main__':\n",
    "    arr1=[1,4,6,8]\n",
    "    arr2=[2,3,5,9]\n",
    "    print(medianOfArray(arr1,arr2,len(arr1)))\n"
   ]
  },
  {
   "cell_type": "markdown",
   "metadata": {},
   "source": [
    "Time Complexity O(logn)"
   ]
  },
  {
   "cell_type": "markdown",
   "metadata": {},
   "source": [
    "# Median of two sorted arrays of different sizes"
   ]
  },
  {
   "cell_type": "markdown",
   "metadata": {},
   "source": [
    "Simple Approach-> if n1+n2 is odd then middle element lies at (n1+n2)/2 and if n1+n2 is even then middle elements lie at (n1+n2)/2 -1 and (n1+n2)/2"
   ]
  },
  {
   "cell_type": "code",
   "execution_count": 3,
   "metadata": {},
   "outputs": [
    {
     "name": "stdout",
     "output_type": "stream",
     "text": [
      "15\n"
     ]
    }
   ],
   "source": [
    "#O(n) solution\n",
    "\n",
    "def medianOfArray(arr1,arr2):\n",
    "    n1=len(arr1)\n",
    "    n2=len(arr2)\n",
    "    i=j=0\n",
    "    m1=-1\n",
    "    m2=-1\n",
    "    if (n1+n2)%2==1:\n",
    "        for count in range((n1+n2)//2+1):\n",
    "            if i<n1 and j<n2:\n",
    "                if arr1[i]<arr2[j]:\n",
    "                    m1=arr1[i]\n",
    "                    i+=1\n",
    "                else:\n",
    "                    m1=arr2[j]\n",
    "                    j+=1\n",
    "            elif i<n1:\n",
    "                m1=arr1[i]\n",
    "                i+=1\n",
    "            else:\n",
    "                m1=arr2[j]\n",
    "                j+=1\n",
    "        return m1\n",
    "    else:\n",
    "\n",
    "        for count in range((n1+n2)//2+1):\n",
    "            m2=m1\n",
    "            if i<n1 and j<n2:\n",
    "                if arr1[i]<arr2[j]:\n",
    "                    m1=arr1[i]\n",
    "                    i+=1\n",
    "                else:\n",
    "                    m1=arr2[j]\n",
    "                    j+=1\n",
    "            elif i<n1:\n",
    "                m1=arr1[i]\n",
    "                i+=1\n",
    "            else:\n",
    "                m1=arr2[j]\n",
    "                j+=1\n",
    "        return (m1+m2)//2\n",
    "\n",
    "if __name__ == '__main__':\n",
    "    arr1=[900]\n",
    "    arr2=[5,8,10,20,30]\n",
    "    print(medianOfArray(arr1,arr2))\n"
   ]
  },
  {
   "cell_type": "code",
   "execution_count": null,
   "metadata": {},
   "outputs": [],
   "source": []
  },
  {
   "cell_type": "markdown",
   "metadata": {},
   "source": [
    "# Floor in a Sorted Array\n",
    "Given a sorted array and a value x, the floor of x is the largest element in array smaller than or equal to x."
   ]
  },
  {
   "cell_type": "code",
   "execution_count": 21,
   "metadata": {},
   "outputs": [
    {
     "name": "stdout",
     "output_type": "stream",
     "text": [
      "2\n"
     ]
    }
   ],
   "source": [
    "def floorSorted(arr,low,high,x):\n",
    "    #print(low,high)\n",
    "    if low>high:\n",
    "        return -1\n",
    "    \n",
    "    if arr[low]>x:\n",
    "        #print(\"inside\")\n",
    "        return -1\n",
    "    \n",
    "    if arr[high]<=x:\n",
    "        return arr[high]\n",
    "    \n",
    "    mid=(low+high)//2\n",
    "    \n",
    "    if arr[mid]==x:\n",
    "        return arr[mid]\n",
    "    \n",
    "    if mid>0 and x>=arr[mid-1] and arr[mid]>x:\n",
    "        return arr[mid-1]\n",
    "    \n",
    "    if mid<high and x<arr[mid+1] and x>=arr[mid]:\n",
    "        return arr[mid]\n",
    "    \n",
    "    if x>arr[mid]:\n",
    "        return floorSorted(arr,mid+1,high,x)\n",
    "    else:\n",
    "        return floorSorted(arr,low,mid-1,x)\n",
    "\n",
    "if __name__ == '__main__':\n",
    "    arr=[1,2,8,10,12,14,19]\n",
    "    x=5\n",
    "    print(floorSorted(arr,0,len(arr)-1,x))\n",
    "#O(logn) time complexity"
   ]
  },
  {
   "cell_type": "markdown",
   "metadata": {},
   "source": [
    "# Find closest number in array\n",
    "Given an array of sorted integers. We need to find the closest value to the given number. Array may contain duplicate values and negative numbers."
   ]
  },
  {
   "cell_type": "code",
   "execution_count": 24,
   "metadata": {},
   "outputs": [
    {
     "name": "stdout",
     "output_type": "stream",
     "text": [
      "6\n"
     ]
    }
   ],
   "source": [
    "def closestNumber(arr,low,high,x):\n",
    "    if low>high:\n",
    "        return -1\n",
    "    if arr[high]<=x:\n",
    "        return arr[high]\n",
    "    if arr[low]>=x:\n",
    "        return arr[low]\n",
    "    mid=(low+high)//2\n",
    "    if arr[mid]==x:\n",
    "        return arr[mid]\n",
    "    abs_mid=abs(arr[mid]-x)\n",
    "    if mid>0:\n",
    "        abs_left=abs(arr[mid-1]-x)\n",
    "        if abs_left<abs_mid:\n",
    "            return closestNumber(arr,low,mid-1,x)\n",
    "    if mid<high:\n",
    "        abs_right=abs(arr[mid+1]-x)\n",
    "        if abs_right<abs_mid:\n",
    "            return closestNumber(arr,mid+1,high,x)\n",
    "    #print('after')\n",
    "    return arr[mid]\n",
    "\n",
    "if __name__ == '__main__':\n",
    "    arr=[2, 5, 6, 7, 8, 8, 9]\n",
    "    x=6\n",
    "    print(closestNumber(arr,0,len(arr)-1,x))\n"
   ]
  },
  {
   "cell_type": "markdown",
   "metadata": {},
   "source": [
    "# Find a Fixed Point in a given arrray"
   ]
  },
  {
   "cell_type": "markdown",
   "metadata": {},
   "source": [
    "Given an array of n distinct integers sorted in ascending order, write a function that returns a Fixed Point in the array, if there is any Fixed Point present in array, else returns -1. Fixed Point in an array is an index i such that arr[i] is equal to i. Note that integers in array can be negative."
   ]
  },
  {
   "cell_type": "code",
   "execution_count": 27,
   "metadata": {},
   "outputs": [
    {
     "name": "stdout",
     "output_type": "stream",
     "text": [
      "3\n"
     ]
    }
   ],
   "source": [
    "def fixedPoint(arr,low,high):\n",
    "    if low>high:\n",
    "        return -1\n",
    "    if arr[high]==high:\n",
    "        return arr[high]\n",
    "    if arr[low]==low:\n",
    "        return arr[low]\n",
    "    mid=(low+high)//2\n",
    "    if arr[mid]==mid:\n",
    "        return arr[mid]\n",
    "    if mid>arr[mid]:\n",
    "        return fixedPoint(arr,mid+1,high)\n",
    "    else:\n",
    "        return fixedPoint(arr,low,mid-1)\n",
    "    \n",
    "    \n",
    "    \n",
    "\n",
    "if __name__ == '__main__':\n",
    "    arr=[-10,-5,0,3,7]\n",
    "    print(fixedPoint(arr,0,len(arr)-1))\n"
   ]
  },
  {
   "cell_type": "markdown",
   "metadata": {},
   "source": [
    "# Find a Fixed Point (Value equal to index) in a given array | Duplicates Allowed"
   ]
  },
  {
   "cell_type": "code",
   "execution_count": 29,
   "metadata": {},
   "outputs": [
    {
     "name": "stdout",
     "output_type": "stream",
     "text": [
      "2\n"
     ]
    }
   ],
   "source": [
    "def fixedPoint(arr,low,high):\n",
    "    if low>high:\n",
    "        return -1\n",
    "    if arr[high]==high:\n",
    "        return arr[high]\n",
    "    if arr[low]==low:\n",
    "        return arr[low]\n",
    "    mid=(low+high)//2\n",
    "    if arr[mid]==mid:\n",
    "        return arr[mid]\n",
    "    left=fixedPoint(arr,low,min(arr[mid],mid-1))\n",
    "    if left>0:\n",
    "        return left\n",
    "    return fixedPoint(arr,max(arr[mid],mid+1),high)\n",
    "\n",
    "if __name__ == '__main__':\n",
    "    arr=[-10, -5, 2, 2, 2, 3, 4, 7, 9, 12, 13]\n",
    "    print(fixedPoint(arr,0,len(arr)-1))\n"
   ]
  },
  {
   "cell_type": "markdown",
   "metadata": {},
   "source": [
    "# Find a peak element\n",
    "Given an array of integers. Find a peak element in it. An array element is a peak if it is NOT smaller than its neighbours. For corner elements, we need to consider only one neighbour."
   ]
  },
  {
   "cell_type": "code",
   "execution_count": 30,
   "metadata": {},
   "outputs": [
    {
     "name": "stdout",
     "output_type": "stream",
     "text": [
      "20\n"
     ]
    }
   ],
   "source": [
    "def peakElement(arr,low,high,n):\n",
    "    if low>high:\n",
    "        return -1\n",
    "\n",
    "    mid=(low+high)//2\n",
    "    #left corner case   +    right corner case\n",
    "    if (mid==0 or arr[mid-1]<arr[mid]) and (mid==n-1 or arr[mid+1]<arr[mid]):\n",
    "        return arr[mid]\n",
    "\n",
    "    if mid>0 and arr[mid-1]>arr[mid]:\n",
    "        return peakElement(arr,low,mid-1,n)\n",
    "    if mid<n-1 and arr[mid+1]>arr[mid]:\n",
    "        return peakElement(arr,mid+1,high,n)\n",
    "\n",
    "if __name__ == '__main__':\n",
    "    arr=[1, 3, 20, 4, 1, 0]\n",
    "    n=len(arr)\n",
    "    print(peakElement(arr,0,n-1,n))\n"
   ]
  },
  {
   "cell_type": "markdown",
   "metadata": {},
   "source": [
    "# Check for Majority Element in a sorted array\n",
    "find if a given integer x appears more than n/2 times in a sorted array of n integers."
   ]
  },
  {
   "cell_type": "code",
   "execution_count": 33,
   "metadata": {},
   "outputs": [
    {
     "name": "stdout",
     "output_type": "stream",
     "text": [
      "True\n"
     ]
    }
   ],
   "source": [
    "def binarySearch(arr,low,high,x):\n",
    "    if low>high:\n",
    "        return -1\n",
    "    mid=(low+high)//2\n",
    "    if arr[mid]==x and (mid==0 or arr[mid-1]!=x):\n",
    "        return mid\n",
    "    elif mid<n-1 and arr[mid]<x:\n",
    "        return binarySearch(arr,mid+1,high,x)\n",
    "    else:\n",
    "        return binarySearch(arr,low,mid-1,x)\n",
    "\n",
    "def Majority(arr,low,high,x):\n",
    "    i=binarySearch(arr,low,high,x)\n",
    "    if i==-1:\n",
    "        return False\n",
    "    if i+(n//2)<=n-1 and arr[i+(n//2)]==x:\n",
    "        return True\n",
    "    return False\n",
    "if __name__ == '__main__':\n",
    "    arr=[1, 2, 3, 3, 3, 3, 10]\n",
    "    n=len(arr)\n",
    "    print(Majority(arr,0,n-1,3))\n"
   ]
  },
  {
   "cell_type": "markdown",
   "metadata": {},
   "source": [
    "# K-th Element of Two Sorted Arrays\n",
    "Given two sorted arrays of size m and n respectively, you are tasked with finding the element that would be at the k’th position of the final sorted array."
   ]
  },
  {
   "cell_type": "code",
   "execution_count": 34,
   "metadata": {},
   "outputs": [
    {
     "name": "stdout",
     "output_type": "stream",
     "text": [
      "6\n"
     ]
    }
   ],
   "source": [
    "#O(n) solution uses merge method of merge sort\n",
    "\n",
    "def KElement(arr1,arr2,k):\n",
    "    n1=len(arr1)\n",
    "    n2=len(arr2)\n",
    "    res=None\n",
    "    count=0\n",
    "    i=0;j=0\n",
    "    if k>(n1+n2):\n",
    "        print('Element not found')\n",
    "        return\n",
    "    for count in range(k):\n",
    "        if i<n1 and j<n2:\n",
    "            if arr1[i]<arr2[j]:\n",
    "                res=arr1[i]\n",
    "                i+=1\n",
    "            else:\n",
    "                res=arr2[j]\n",
    "                j+=1\n",
    "        elif i<n1:\n",
    "            res=arr1[i]\n",
    "            i+=1\n",
    "        elif j<n2:\n",
    "            res=arr2[j]\n",
    "            j+=1\n",
    "        #print(res)\n",
    "    return res\n",
    "\n",
    "if __name__ == '__main__':\n",
    "    arr1=[2,3,6,7,9]\n",
    "    arr2=[1,4,8,10]\n",
    "    res=KElement(arr1,arr2,5)\n",
    "    print(res)\n"
   ]
  },
  {
   "cell_type": "code",
   "execution_count": 35,
   "metadata": {},
   "outputs": [],
   "source": [
    "#divide and conquer approach"
   ]
  },
  {
   "cell_type": "markdown",
   "metadata": {},
   "source": [
    "# Find the Rotation Count in Rotated Sorted array"
   ]
  },
  {
   "cell_type": "code",
   "execution_count": 40,
   "metadata": {},
   "outputs": [
    {
     "name": "stdout",
     "output_type": "stream",
     "text": [
      "2\n"
     ]
    }
   ],
   "source": [
    "def getRotationCount(arr,low,high,n):\n",
    "    if low>high:\n",
    "        return -1\n",
    "    '''\n",
    "    if arr[low]<arr[high]:\n",
    "        return 0#array not rotated\n",
    "    '''\n",
    "    mid=(low+high)//2\n",
    "    if mid>0 and arr[mid-1]>arr[mid]:\n",
    "        return mid\n",
    "    if mid<n-1 and arr[mid+1]<arr[mid]:\n",
    "        return mid+1\n",
    "    if arr[low]<arr[mid]:\n",
    "        return getRotationCount(arr,mid+1,high,n)\n",
    "    else:\n",
    "        return getRotationCount(arr,low,mid-1,n)\n",
    "\n",
    "if __name__ == '__main__':\n",
    "    arr=[15,18,2,3,6,12,146]\n",
    "    print(getRotationCount(arr,0,len(arr)-1,len(arr)))\n"
   ]
  },
  {
   "cell_type": "markdown",
   "metadata": {},
   "source": [
    "# Find the minimum element in a sorted and rotated array"
   ]
  },
  {
   "cell_type": "code",
   "execution_count": 44,
   "metadata": {},
   "outputs": [
    {
     "name": "stdout",
     "output_type": "stream",
     "text": [
      "5\n"
     ]
    }
   ],
   "source": [
    "def getRotationCount(arr,low,high,n):\n",
    "    if low>high:\n",
    "        return -1\n",
    "    mid=(low+high)//2\n",
    "    if mid>0 and arr[mid-1]>arr[mid]:\n",
    "        return arr[mid]\n",
    "    if mid<n-1 and arr[mid+1]<arr[mid]:\n",
    "        return arr[mid+1]\n",
    "    if arr[low]<arr[mid]:\n",
    "        return getRotationCount(arr,mid+1,high,n)\n",
    "    else:\n",
    "        return getRotationCount(arr,low,mid-1,n)\n",
    "\n",
    "if __name__ == '__main__':\n",
    "    arr=[7,9,11,12,5]\n",
    "    print(getRotationCount(arr,0,len(arr)-1,len(arr)))\n"
   ]
  },
  {
   "cell_type": "code",
   "execution_count": null,
   "metadata": {},
   "outputs": [],
   "source": []
  }
 ],
 "metadata": {
  "kernelspec": {
   "display_name": "Python 3",
   "language": "python",
   "name": "python3"
  },
  "language_info": {
   "codemirror_mode": {
    "name": "ipython",
    "version": 3
   },
   "file_extension": ".py",
   "mimetype": "text/x-python",
   "name": "python",
   "nbconvert_exporter": "python",
   "pygments_lexer": "ipython3",
   "version": "3.7.6"
  }
 },
 "nbformat": 4,
 "nbformat_minor": 4
}
