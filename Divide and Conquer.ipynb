{
 "cells": [
  {
   "cell_type": "markdown",
   "metadata": {},
   "source": [
    "<h1><center>Divide and Conquer</center></h1>\n",
    "This technique can be divided into the following three parts:\n",
    "\n",
    "Divide: This involves dividing the problem into some sub problem.\n",
    "Conquer: Sub problem by calling recursively until sub problem solved.\n",
    "Combine: The Sub problem Solved so that we will get find problem solution."
   ]
  },
  {
   "cell_type": "markdown",
   "metadata": {},
   "source": [
    "# Find Max in an array"
   ]
  },
  {
   "cell_type": "code",
   "execution_count": 1,
   "metadata": {},
   "outputs": [
    {
     "name": "stdout",
     "output_type": "stream",
     "text": [
      "250\n"
     ]
    }
   ],
   "source": [
    "def findMax(arr,low,high):\n",
    "    if low==high:\n",
    "        return arr[low]\n",
    "    mid=(low+high)//2\n",
    "    result1=findMax(arr,low,mid)\n",
    "    result2=findMax(arr,mid+1,high)\n",
    "    result=max(result1,result2)\n",
    "    return result\n",
    "\n",
    "\n",
    "if __name__ == '__main__':\n",
    "    arr=[70, 250, 50, 80, 140, 12, 14]\n",
    "    result=findMax(arr,0,len(arr)-1)\n",
    "    print(result)\n"
   ]
  },
  {
   "cell_type": "markdown",
   "metadata": {},
   "source": [
    "# Find Min in an array"
   ]
  },
  {
   "cell_type": "code",
   "execution_count": 2,
   "metadata": {},
   "outputs": [
    {
     "name": "stdout",
     "output_type": "stream",
     "text": [
      "12\n"
     ]
    }
   ],
   "source": [
    "def findMin(arr,low,high):\n",
    "    if low==high:\n",
    "        return arr[low]\n",
    "    mid=(low+high)//2\n",
    "    result1=findMin(arr,low,mid)\n",
    "    result2=findMin(arr,mid+1,high)\n",
    "    result=min(result1,result2)\n",
    "    return result\n",
    "\n",
    "\n",
    "if __name__ == '__main__':\n",
    "    arr=[70, 250, 50, 80, 140, 12, 14]\n",
    "    result=findMin(arr,0,len(arr)-1)\n",
    "    print(result)\n"
   ]
  },
  {
   "cell_type": "markdown",
   "metadata": {},
   "source": [
    "# Divide and Conquer (D & C) vs Dynamic Programming (DP)\n",
    "Both paradigms (D & C and DP) divide the given problem into subproblems and solve subproblems. How to choose one of them for a given problem? Divide and Conquer should be used when same subproblems are not evaluated many times. Otherwise Dynamic Programming or Memoization should be used. For example, Binary Search is a Divide and Conquer algorithm, we never evaluate the same subproblems again"
   ]
  },
  {
   "cell_type": "markdown",
   "metadata": {},
   "source": [
    "# Binary Search"
   ]
  },
  {
   "cell_type": "code",
   "execution_count": 9,
   "metadata": {},
   "outputs": [
    {
     "name": "stdout",
     "output_type": "stream",
     "text": [
      "True\n"
     ]
    }
   ],
   "source": [
    "def BinarySearch(arr,low,high,key):\n",
    "    if low>high:\n",
    "        #print('Element not found')\n",
    "        return False\n",
    "    mid=(low+high)//2\n",
    "    if arr[mid]==key:\n",
    "        return True\n",
    "    elif key<arr[mid]:\n",
    "        return BinarySearch(arr,low,mid-1,key)\n",
    "    else:\n",
    "        return BinarySearch(arr,mid+1,high,key)\n",
    "\n",
    "if __name__ == '__main__':\n",
    "    arr=[2, 3, 4, 10, 40]\n",
    "    print(BinarySearch(arr,0,len(arr)-1,40))\n",
    "\n",
    "#O(logn) time and O(logn) space[function call stack]"
   ]
  },
  {
   "cell_type": "code",
   "execution_count": 10,
   "metadata": {},
   "outputs": [
    {
     "name": "stdout",
     "output_type": "stream",
     "text": [
      "False\n"
     ]
    }
   ],
   "source": [
    "def BinarySearch(arr,low,high,key):\n",
    "    if low>high:\n",
    "        #print('Element not found')\n",
    "        return False\n",
    "    while low<=high:\n",
    "        \n",
    "        mid=(low+high)//2\n",
    "        if arr[mid]==key:\n",
    "            return True\n",
    "        elif key<arr[mid]:\n",
    "            high=mid-1\n",
    "        else:\n",
    "            low=mid+1\n",
    "    return False\n",
    "\n",
    "if __name__ == '__main__':\n",
    "    arr=[2, 3, 4, 10, 40]\n",
    "    print(BinarySearch(arr,0,len(arr)-1,13))\n",
    "#O(logn) time and O(1) space"
   ]
  },
  {
   "cell_type": "markdown",
   "metadata": {},
   "source": [
    "# Randomized Binary Search Algorithm\n"
   ]
  },
  {
   "cell_type": "code",
   "execution_count": 12,
   "metadata": {},
   "outputs": [
    {
     "name": "stdout",
     "output_type": "stream",
     "text": [
      "True\n"
     ]
    }
   ],
   "source": [
    "from random import randint\n",
    "\n",
    "def getRandom(l,h):\n",
    "    r=randint(l,h)\n",
    "    return r\n",
    "\n",
    "def BinarySearch(arr,low,high,key):\n",
    "    if low>high:\n",
    "        return False\n",
    "    mid=getRandom(low,high)\n",
    "    if arr[mid]==key:\n",
    "        return True\n",
    "    elif key<arr[mid]:\n",
    "        return BinarySearch(arr,low,mid-1,key)\n",
    "    else:\n",
    "        return BinarySearch(arr,mid+1,high,key)\n",
    "\n",
    "if __name__ == '__main__':\n",
    "    arr=[2, 3, 4, 10, 40]\n",
    "    print(BinarySearch(arr,0,len(arr)-1,3))\n"
   ]
  },
  {
   "cell_type": "markdown",
   "metadata": {},
   "source": [
    "# Merge Sort"
   ]
  },
  {
   "cell_type": "code",
   "execution_count": 24,
   "metadata": {},
   "outputs": [
    {
     "name": "stdout",
     "output_type": "stream",
     "text": [
      "[2, 3, 4, 10, 40]\n"
     ]
    }
   ],
   "source": [
    "def mergeSort(arr):\n",
    "    if len(arr)>1:\n",
    "        mid=len(arr)//2\n",
    "        l=arr[:mid]\n",
    "        r=arr[mid:]\n",
    "        mergeSort(l)\n",
    "        mergeSort(r)\n",
    "    \n",
    "        i,j,k=0,0,0\n",
    "        n1=len(l)\n",
    "        n2=len(r)\n",
    "        while i<n1 and j<n2:\n",
    "            if l[i]<r[j]:\n",
    "                arr[k]=l[i]\n",
    "                i+=1\n",
    "                k+=1\n",
    "            else:\n",
    "                arr[k]=r[j]\n",
    "                j+=1\n",
    "                k+=1\n",
    "        while i<n1:\n",
    "            arr[k]=l[i]\n",
    "            i+=1\n",
    "            k+=1\n",
    "        while j<n2:\n",
    "            arr[k]=r[j]\n",
    "            j+=1\n",
    "            k+=1\n",
    "\n",
    "    \n",
    "if __name__ == '__main__':\n",
    "    arr=[2, 3, 4, 10, 40]\n",
    "    mergeSort(arr)\n",
    "    print(arr)\n",
    "\n",
    "#O(nlogn) time complexity and O(n) space complexity"
   ]
  },
  {
   "cell_type": "markdown",
   "metadata": {},
   "source": [
    "# Quick Sort"
   ]
  },
  {
   "cell_type": "code",
   "execution_count": 26,
   "metadata": {},
   "outputs": [
    {
     "name": "stdout",
     "output_type": "stream",
     "text": [
      "[12, 14, 50, 70, 80, 140, 250]\n"
     ]
    }
   ],
   "source": [
    "def partition(arr,low,high):\n",
    "    i=low-1\n",
    "    pivot=arr[high]\n",
    "    for j in range(low,high):\n",
    "        if arr[j]<pivot:\n",
    "            i+=1\n",
    "            arr[i],arr[j]=arr[j],arr[i]\n",
    "    arr[i+1],arr[high]=arr[high],arr[i+1]\n",
    "    return (i+1)\n",
    "    \n",
    "def quickSort(arr,low,high):\n",
    "    if low<high:\n",
    "        p=partition(arr,low,high)\n",
    "        \n",
    "        quickSort(arr,low,p-1)\n",
    "        quickSort(arr,p+1,high)\n",
    "    \n",
    "if __name__ == '__main__':\n",
    "    arr=[70,250,50,80,140,12,14]\n",
    "    quickSort(arr,0,len(arr)-1)\n",
    "    print(arr)\n",
    "\n",
    "#O(nlogn) time complexity and O(n) space complexity"
   ]
  },
  {
   "cell_type": "markdown",
   "metadata": {},
   "source": [
    "# Count Inversions in an array"
   ]
  },
  {
   "cell_type": "code",
   "execution_count": 29,
   "metadata": {},
   "outputs": [
    {
     "name": "stdout",
     "output_type": "stream",
     "text": [
      "5\n"
     ]
    }
   ],
   "source": [
    "def countInversion(arr):\n",
    "    result=0\n",
    "    for i in range(len(arr)):\n",
    "        for j in range(i+1,len(arr)):\n",
    "            if arr[i]>arr[j]:\n",
    "                result+=1\n",
    "    return result\n",
    "            \n",
    "    \n",
    "if __name__ == '__main__':\n",
    "    arr=[1, 20, 6, 4, 5]\n",
    "    result=countInversion(arr)\n",
    "    print(result)\n",
    "\n",
    "#O(n^2) time complexity and O(1) space complexity"
   ]
  },
  {
   "cell_type": "code",
   "execution_count": 32,
   "metadata": {},
   "outputs": [
    {
     "name": "stdout",
     "output_type": "stream",
     "text": [
      "5\n"
     ]
    }
   ],
   "source": [
    "def countInversion(arr):\n",
    "    icount=0\n",
    "    if len(arr)<=1:\n",
    "        return icount\n",
    "\n",
    "    mid=len(arr)//2\n",
    "    left=arr[:mid]\n",
    "    right=arr[mid:]\n",
    "    icount+=countInversion(left)\n",
    "    icount+=countInversion(right)\n",
    "    i=j=k=0\n",
    "\n",
    "    #print(left)\n",
    "    #print(right)\n",
    "    while i<len(left) and j<len(right):\n",
    "        if left[i]<right[j]:\n",
    "            arr[k]=left[i]\n",
    "            i+=1\n",
    "        else:\n",
    "            #print(left[i],right[j])\n",
    "            arr[k]=right[j]\n",
    "            j+=1\n",
    "            icount+=(mid-i)\n",
    "        k+=1\n",
    "\n",
    "    while i<len(left):\n",
    "        arr[k]=left[i]\n",
    "        i+=1\n",
    "        k+=1\n",
    "    while j<len(right):\n",
    "        arr[k]=right[j]\n",
    "        j+=1\n",
    "        k+=1\n",
    "\n",
    "    return icount\n",
    "\n",
    "if __name__ == '__main__':\n",
    "    #arr=[9,8,10,5,6,7]\n",
    "    arr=[1, 20, 6, 4, 5]\n",
    "    print(countInversion(arr))\n",
    "    #print(arr)\n",
    "#O(nlogn) time complexity and O(1) space complexity"
   ]
  },
  {
   "cell_type": "markdown",
   "metadata": {},
   "source": [
    "# Power function using D&C"
   ]
  },
  {
   "cell_type": "code",
   "execution_count": 3,
   "metadata": {},
   "outputs": [
    {
     "name": "stdout",
     "output_type": "stream",
     "text": [
      "64\n"
     ]
    }
   ],
   "source": [
    "def power(x,y):\n",
    "    if y==0:\n",
    "        return 1\n",
    "    temp=power(x,y//2)\n",
    "    if y%2==0:\n",
    "        return temp*temp\n",
    "    else:\n",
    "        return x*temp*temp\n",
    "    \n",
    "    \n",
    "if __name__ == '__main__':\n",
    "    x=2;y=6\n",
    "    print(power(x,y))\n",
    "    #print(arr)\n",
    "#O(logn) time complexity and O(logn) space complexity [Function Call Stack]"
   ]
  },
  {
   "cell_type": "markdown",
   "metadata": {},
   "source": [
    "# Multiply two Polynomials"
   ]
  },
  {
   "cell_type": "code",
   "execution_count": 6,
   "metadata": {},
   "outputs": [
    {
     "name": "stdout",
     "output_type": "stream",
     "text": [
      "5x^0 + 10x^1 + 30x^2 + 26x^3 + 52x^4 + 24x^5\n"
     ]
    }
   ],
   "source": [
    "def multiplyPolynomial(a,b):\n",
    "    c=[0]*(len(a)+len(b)-1)\n",
    "    for i in range(len(a)):\n",
    "        for j in range(len(b)):\n",
    "            c[i+j]+=a[i]*b[j]\n",
    "    for i in range(len(c)-1):\n",
    "        print(c[i],'x^',i,end=\" + \",sep='')\n",
    "    i+=1\n",
    "    print(c[i],'x^',i,sep='')\n",
    "\n",
    "if __name__ == '__main__':\n",
    "    a=[5,0,10,6]\n",
    "    b=[1,2,4]\n",
    "    multiplyPolynomial(a,b)\n",
    "#Time Complexity-O(mn)\n"
   ]
  },
  {
   "cell_type": "markdown",
   "metadata": {},
   "source": [
    "# Maximum Subarray Sum"
   ]
  },
  {
   "cell_type": "code",
   "execution_count": 7,
   "metadata": {},
   "outputs": [
    {
     "name": "stdout",
     "output_type": "stream",
     "text": [
      "7\n"
     ]
    }
   ],
   "source": [
    "def maxSubSum(arr):\n",
    "    max_so_far=0\n",
    "    max_ending_here=0\n",
    "    for i in range(len(arr)):\n",
    "        max_ending_here+=arr[i]\n",
    "        if max_ending_here>max_so_far:\n",
    "            max_so_far=max_ending_here\n",
    "        if max_ending_here<0:\n",
    "            max_ending_here=0\n",
    "    return max_so_far        \n",
    "    \n",
    "\n",
    "if __name__ == '__main__':\n",
    "    arr=[-2, -5, 6, -2, -3, 1, 5, -6]\n",
    "    result=maxSubSum(arr)\n",
    "    print(result)\n"
   ]
  },
  {
   "cell_type": "code",
   "execution_count": 13,
   "metadata": {},
   "outputs": [
    {
     "name": "stdout",
     "output_type": "stream",
     "text": [
      "7\n"
     ]
    }
   ],
   "source": [
    "#Using Divide and Conquer Strategy\n",
    "\n",
    "def maxCrossingSum(arr,low,mid,high):\n",
    "    result=0; leftSum=float('-infinity')\n",
    "    for i in range(mid,low-1,-1):\n",
    "        result+=arr[i]\n",
    "        if result>leftSum:\n",
    "            leftSum=result\n",
    "    result=0; rightSum=float('-infinity')\n",
    "    for i in range(mid+1,high+1):\n",
    "        result+=arr[i]\n",
    "        if result>rightSum:\n",
    "            rightSum=result\n",
    "    return leftSum+rightSum\n",
    "    \n",
    "\n",
    "def maxSum(arr,low,high):\n",
    "    if low==high:\n",
    "        return arr[low]\n",
    "    mid=(low+high)//2\n",
    "    return max(maxSum(arr,low,mid),maxSum(arr,mid+1,high),maxCrossingSum(arr,low,mid,high))\n",
    "\n",
    "if __name__=='__main__':\n",
    "    arr=[-2, -5, 6, -2, -3, 1, 5, -6]\n",
    "    result=maxSum(arr,0,len(arr)-1)\n",
    "    print(result)\n",
    "#2T(N/2)+O(N)---> O(nlogn)"
   ]
  },
  {
   "cell_type": "markdown",
   "metadata": {},
   "source": [
    "# Longest Common Prefix using Divide and Conquer Algorithm"
   ]
  },
  {
   "cell_type": "code",
   "execution_count": 15,
   "metadata": {},
   "outputs": [
    {
     "name": "stdout",
     "output_type": "stream",
     "text": [
      "ap\n"
     ]
    }
   ],
   "source": [
    "#Using Divide and Conquer Strategy\n",
    "\n",
    "def commonPrefix(str1,str2):\n",
    "    n1=len(str1);n2=len(str2)\n",
    "    i,j=0,0\n",
    "    s=\"\"\n",
    "    while i<n1 and j<n2:\n",
    "        if str1[i]==str2[j]:\n",
    "            s+=str1[i]\n",
    "            i+=1\n",
    "            j+=1\n",
    "        else:\n",
    "            break\n",
    "    return s\n",
    "\n",
    "def longestCommonPrefix(arr,low,high):\n",
    "    if low==high:\n",
    "        return arr[low]\n",
    "    mid=(low+high)//2\n",
    "    result1=longestCommonPrefix(arr,low,mid)\n",
    "    result2=longestCommonPrefix(arr,mid+1,high)\n",
    "    result=commonPrefix(result1,result2)\n",
    "    return result\n",
    "\n",
    "if __name__=='__main__':\n",
    "    arr=['geeksforgeeks', 'geeks', 'geek', 'geezer']\n",
    "    arr=[\"apple\", \"ape\", \"april\"]\n",
    "    result=longestCommonPrefix(arr,0,len(arr)-1)\n",
    "    print(result)\n",
    "#2T(N/2)+O(N)---> O(nlogn)"
   ]
  },
  {
   "cell_type": "code",
   "execution_count": null,
   "metadata": {},
   "outputs": [],
   "source": []
  }
 ],
 "metadata": {
  "kernelspec": {
   "display_name": "Python 3",
   "language": "python",
   "name": "python3"
  },
  "language_info": {
   "codemirror_mode": {
    "name": "ipython",
    "version": 3
   },
   "file_extension": ".py",
   "mimetype": "text/x-python",
   "name": "python",
   "nbconvert_exporter": "python",
   "pygments_lexer": "ipython3",
   "version": "3.7.6"
  }
 },
 "nbformat": 4,
 "nbformat_minor": 4
}
